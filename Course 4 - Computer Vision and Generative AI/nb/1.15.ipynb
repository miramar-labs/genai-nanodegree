{
 "cells": [
  {
   "cell_type": "markdown",
   "id": "3d74a6c5",
   "metadata": {},
   "source": [
    "## Summary\n",
    "\n",
    "Here we will install the `automatic1111` workspace locally as my laptop has an NVidia GPU. It gives us a Stable Diffusion Web UI to play around with.\n",
    "\n",
    "Installing into my existing WSL2 ubuntu environment:\n",
    "\n",
    "    sudo apt-get update\n",
    "    sudo apt-get install google-perftools\n",
    "    \n",
    "Will create a python venv for this: `genai-nano-automatic1111`\n",
    "\n",
    "    pyenv install 3.10\n",
    "    pyenv virtualenv 3.10 genai-nano-automatic1111\n",
    "\n",
    "    cd '/home/aaron/genai-nanodegree/Course 4 - Computer Vision and Generative AI'\n",
    "    mkdir automatic1111\n",
    "    cd automatic1111\n",
    "    pyenv local genai-nano-automatic1111\n",
    "\n",
    "    wget -q https://raw.githubusercontent.com/AUTOMATIC1111/stable-diffusion-webui/master/webui.sh\n",
    "    chmod +x webui.sh\n",
    "    ./webui.sh\n",
    "\n"
   ]
  },
  {
   "cell_type": "markdown",
   "id": "7e9deb02",
   "metadata": {},
   "source": [
    "## Additional References\n",
    "\n",
    "[]()"
   ]
  },
  {
   "cell_type": "markdown",
   "id": "c91afd38",
   "metadata": {},
   "source": []
  }
 ],
 "metadata": {
  "language_info": {
   "name": "python"
  }
 },
 "nbformat": 4,
 "nbformat_minor": 5
}
