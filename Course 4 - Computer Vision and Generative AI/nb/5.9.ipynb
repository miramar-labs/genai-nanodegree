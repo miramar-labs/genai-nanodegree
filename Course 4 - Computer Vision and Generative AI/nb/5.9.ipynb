{
 "cells": [
  {
   "cell_type": "markdown",
   "id": "3d74a6c5",
   "metadata": {},
   "source": [
    "## Summary\n",
    "\n",
    "![](./img/img6.png)\n",
    "\n",
    "### Code\n",
    "\n",
    "    # Compute some quantities we need, contained\n",
    "    # in the formulas reported above\n",
    "    sqrt_one_minus_alpha_bar = sqrt(1. - alpha_bar)\n",
    "    alpha_bar_t_minus_1 = F.pad(\n",
    "        alpha_bar[:-1], \n",
    "        (1, 0), \n",
    "        value=1.0\n",
    "    )\n",
    "    # This is called \\sigma_{t} in the formulas\n",
    "    # posterior_variance = (\n",
    "        beta * (1.0 - alpha_bar_t_minus_1) / \n",
    "        (1.0 - alpha_bar)\n",
    "    )\n",
    "    # Batch size. For example, generate 8\n",
    "    # fake images\n",
    "    bs = 8\n",
    "    # Generate the random initialization\n",
    "    # (remember, an image filled with random\n",
    "    # values is the start of the reverse process)\n",
    "    x = randn((bs, 3, IMG_SIZE, IMG_SIZE))\n",
    "    # We loop \"backward in time\"\n",
    "    for ts in range(0, T)[::-1]:\n",
    "\n",
    "        # This is the noise z that we will add back\n",
    "        # into the denoised image (except if we are\n",
    "        # at the very last iteration)\n",
    "        noise = randn_like(x) if ts > 0 else 0\n",
    "\n",
    "        # For each image in the batch we consider\n",
    "        # the time step ts\n",
    "        t = full((bs,), ts).long()\n",
    "\n",
    "        # This is the formula for the denoising\n",
    "        x = (\n",
    "            sqrt_one_over_alpha[t].view(bs, 1, 1, 1) * \n",
    "            (\n",
    "            # Remember: alpha[t] = 1 - beta[t]\n",
    "            x - beta[t].view(bs, 1, 1, 1)\n",
    "            / \n",
    "            sqrt_one_minus_alpha_bar[t].view(bs, 1, 1, 1) * \n",
    "            model(x, t)\n",
    "        ) + sqrt(posterior_variance[t].view(bs, 1, 1, 1)) * \n",
    "            noise\n",
    "    # Cut every value below -1 or above 1\n",
    "    # (this is needed for the conversion back to RGB\n",
    "    # image to work well)\n",
    "    generated_image = torch.clamp(x, -1, 1)"
   ]
  },
  {
   "cell_type": "markdown",
   "id": "7e9deb02",
   "metadata": {},
   "source": [
    "## Additional References\n",
    "\n",
    "[]()"
   ]
  },
  {
   "cell_type": "markdown",
   "id": "c91afd38",
   "metadata": {},
   "source": []
  }
 ],
 "metadata": {
  "language_info": {
   "name": "python"
  }
 },
 "nbformat": 4,
 "nbformat_minor": 5
}
