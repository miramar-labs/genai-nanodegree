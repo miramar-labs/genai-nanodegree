{
 "cells": [
  {
   "cell_type": "markdown",
   "id": "3d74a6c5",
   "metadata": {},
   "source": [
    "## Summary\n",
    "\n",
    "![](./img/img1.png)\n",
    "\n",
    "![](./img/img2.png)\n",
    "\n",
    "![](./img/img3.png)\n",
    "\n",
    "![](./img/img4.png)\n",
    "\n",
    "![](./img/img5.png)\n",
    "\n",
    "### Practical Implications and Training Process\n",
    "\n",
    "- Training Dynamics: During training, the model learns to predict the noise to be subtracted from a noisy image, thus reverting it to a less noisy state. As we have seen, the training process can use stochastic gradient descent to minimize the Mean Squared Error loss between actual noise and the predicted noise, as long as we are using a large-enough mini-batch and we are considering different time steps for each image in the mini-batch (and hence several different levels of noise, since the noise varies according to the noise scheduler)."
   ]
  },
  {
   "cell_type": "markdown",
   "id": "7e9deb02",
   "metadata": {},
   "source": [
    "## Additional References\n",
    "\n",
    "[]()"
   ]
  },
  {
   "cell_type": "markdown",
   "id": "c91afd38",
   "metadata": {},
   "source": []
  }
 ],
 "metadata": {
  "language_info": {
   "name": "python"
  }
 },
 "nbformat": 4,
 "nbformat_minor": 5
}
