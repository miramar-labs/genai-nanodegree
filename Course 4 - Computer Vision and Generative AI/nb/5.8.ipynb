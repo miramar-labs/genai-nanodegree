{
 "cells": [
  {
   "cell_type": "markdown",
   "id": "3d74a6c5",
   "metadata": {},
   "source": [
    "## Summary\n",
    "\n",
    "### Forward process:\n",
    "\n",
    "    n_steps = 512  # This is called T in the formulas\n",
    "    # Linear noise schedule\n",
    "    beta = linspace(start, end, n_steps)\n",
    "\n",
    "    # Precompute some quantities for the reparametrization\n",
    "    alpha = 1. - beta\n",
    "    alpha_bar = cumprod(alpha, axis=0)\n",
    "\n",
    "    sqrt_alpha_bar = sqrt(alpha_bar)\n",
    "    sqrt_one_minus_alpha_bar = sqrt(1. - alpha_bar)\n",
    "\n",
    "    model = UNet()\n",
    "    optimizer = Adam(model.parameters(), lr=0.001)\n",
    "\n",
    "    for batch, _ in dataloader:\n",
    "        ... ## move batch to GPU, reset optimizers, then:\n",
    "        \n",
    "        bs = batch.shape[0]\n",
    "        # Random time steps, one for each image in the\n",
    "        # mini-batch\n",
    "        t = torch.randint(0, T, (bs,)).long()\n",
    "        \n",
    "        # Generate noise and add it to the images\n",
    "        # (forward pass)\n",
    "        noise = torch.randn_like(batch, device=device)\n",
    "        x_noisy = (\n",
    "            sqrt_alpha_bar[t].view(bs, 1, 1, 1) * batch + \n",
    "            sqrt_one_minus_alpha_bar[t].view(bs, 1, 1, 1) * noise\n",
    "        )\n",
    "        \n",
    "        # Predict the noise using the model\n",
    "        # NOTE how the model receives in input the noisy\n",
    "        # image AND the time step t\n",
    "        noise_pred = model(x_noisy, t)\n",
    "        \n",
    "        # Approximate taking the expectation by averaging\n",
    "        # the MSE loss over the minibatch and the random\n",
    "        # time steps\n",
    "        loss = F.mse_loss(noise, noise_pred)\n",
    "        \n",
    "        # Compute gradients and optimize the model weights\n",
    "        loss.backward()\n",
    "        optimizer.step()\n"
   ]
  },
  {
   "cell_type": "markdown",
   "id": "7e9deb02",
   "metadata": {},
   "source": [
    "## Additional References\n",
    "\n",
    "[]()"
   ]
  },
  {
   "cell_type": "markdown",
   "id": "c91afd38",
   "metadata": {},
   "source": []
  }
 ],
 "metadata": {
  "language_info": {
   "name": "python"
  }
 },
 "nbformat": 4,
 "nbformat_minor": 5
}
