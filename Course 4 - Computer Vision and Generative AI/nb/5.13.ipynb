{
 "cells": [
  {
   "cell_type": "markdown",
   "id": "3d74a6c5",
   "metadata": {},
   "source": [
    "## Summary\n",
    "\n",
    "### Diffusers playground\n",
    "\n",
    "Here you get to play with the diffusers library and try your own generations.\n",
    "\n",
    "We provide you with the code that we have seen in the Demo as a starting point.\n",
    "\n",
    "Feel free to experiment! Some ideas to try:\n",
    "\n",
    "- Change the prompts and see what happens\n",
    "- Play around with the parameters that you now understand, such as the Classifier Free Guidance Scale and the number of diffusion steps\n",
    "- Select other models from the HuggingFace Hub and try them out\n",
    "  \n",
    "**IMPORTANT** : many of these models are pretty hungry of GPU memory. Hence, running the entire demo notebook from start to finish is not going to work. You are going to run out of GPU memory! In the notebook be on the lookout for RESTART NOW instructions and read carefully the beginning of the notebook, which explains how to work around this limitation.\n",
    "\n",
    "[PLAYGROUND](./5.13w.ipynb)"
   ]
  },
  {
   "cell_type": "markdown",
   "id": "7e9deb02",
   "metadata": {},
   "source": [
    "## Additional References\n",
    "\n",
    "[]()"
   ]
  },
  {
   "cell_type": "markdown",
   "id": "c91afd38",
   "metadata": {},
   "source": []
  }
 ],
 "metadata": {
  "language_info": {
   "name": "python"
  }
 },
 "nbformat": 4,
 "nbformat_minor": 5
}
