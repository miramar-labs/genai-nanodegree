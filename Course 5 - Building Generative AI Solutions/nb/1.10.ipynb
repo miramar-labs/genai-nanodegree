{
 "cells": [
  {
   "cell_type": "markdown",
   "id": "3d74a6c5",
   "metadata": {},
   "source": [
    "## Summary\n",
    "\n",
    "Let's explore a solution to creating a prompt template instructing the LLM to generate a concise summary based on the restaurant name and cuisine type. In the scenario, the application collects inputs from the user and uses these inputs to generate a summary of the most common sentiments found in various online reviews.\n",
    "\n",
    "### Example Prompt Template Solution\n",
    "\n",
    "In this prompt, {Restaurant Name} and {Cuisine Type} are placeholders for user inputs.\n",
    "\n",
    "        Generate a summary of customer reviews for {Restaurant Name}, focusing on their {Cuisine Type} dishes.\n",
    "\n",
    "### Why This Works\n",
    "\n",
    "- Specificity: The prompt specifies what to summarize (customer reviews) and what focus to maintain (cuisine type).\n",
    "- Flexibility: The template can adapt to any restaurant or cuisine type.\n",
    "- Clarity: The instruction is clear, guiding the LLM to produce relevant and targeted content.\n",
    "\n",
    "Designing prompt templates is essential for structuring user input effectively, ensuring that large language models produce relevant and accurate responses in application development.\n",
    "\n",
    "[SOLUTION](./1.10s.ipynb)"
   ]
  },
  {
   "cell_type": "markdown",
   "id": "7e9deb02",
   "metadata": {},
   "source": [
    "## Additional References\n",
    "\n",
    "[]()"
   ]
  },
  {
   "cell_type": "markdown",
   "id": "c91afd38",
   "metadata": {},
   "source": []
  }
 ],
 "metadata": {
  "language_info": {
   "name": "python"
  }
 },
 "nbformat": 4,
 "nbformat_minor": 5
}
