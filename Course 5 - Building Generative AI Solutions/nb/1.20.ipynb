{
 "cells": [
  {
   "cell_type": "markdown",
   "id": "3d74a6c5",
   "metadata": {},
   "source": [
    "## Summary\n",
    "\n",
    "### Solution Walkthrough\n",
    "- Essential libraries are imported and the OpenAI API key is set.\n",
    "- Functions are created to read and write data from a CSV file using Pandas dataframes. These functions align with the assistant's capabilities, namely\n",
    "    - task retrieval and status updates\n",
    "    - project reporting and analytics\n",
    "    - resource allocation and scheduling.\n",
    "    - Each function returns a JSON string as output.\n",
    "- The conversation with the assistant is structured through messages, including a system message defining the assistant's roles and a user message for input. The user prompts are designed to trigger specific functions.\n",
    "- Define functions to OpenAI. Each function is named and described with parameters that align with the Python functions.\n",
    "- After sending the prompts and tool definitions to the model, the response is received and parsed to identify the function calls. The function identified in the response is then executed.\n",
    "- The notebook runs the identified function with the necessary arguments and appends the resulting JSON output to the messages dictionary. This output is then used in a second call to the model, which augments the data from the function and generates a natural language response.\n",
    "\n",
    "### Experiment!\n",
    "\n",
    "Experiment with this solution, changing the prompt to invoke different functions. Is there user input you thought would identify functions but doesn't?\n",
    "\n",
    "[SOLUTION](./nb/1.20s.ipynb)"
   ]
  },
  {
   "cell_type": "markdown",
   "id": "7e9deb02",
   "metadata": {},
   "source": [
    "## Additional References\n",
    "\n",
    "[]()"
   ]
  },
  {
   "cell_type": "markdown",
   "id": "c91afd38",
   "metadata": {},
   "source": []
  }
 ],
 "metadata": {
  "language_info": {
   "name": "python"
  }
 },
 "nbformat": 4,
 "nbformat_minor": 5
}
