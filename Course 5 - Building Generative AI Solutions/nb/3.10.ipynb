{
 "cells": [
  {
   "cell_type": "markdown",
   "id": "3d74a6c5",
   "metadata": {},
   "source": [
    "## Summary\n",
    "\n",
    "### Code from Video\n",
    "\n",
    "    from langchain.prompts import PromptTemplate\n",
    "    from langchain import LLMChain\n",
    "    from langchain.llms import OpenAI\n",
    "\n",
    "    model_name=\"gpt-3.5-turbo\"\n",
    "    temperature = 1.2\n",
    "    llm = OpenAI(model_name=model_name, temperature=temperature, max_tokens = 500)\n",
    "    prompt_template = PromptTemplate.from_template(\n",
    "        \"\"\"Act as Marvin, a robot from Douglas Adams' Hitchiker Guide. \n",
    "        Tell me a {story_type} about the person described in context below.\n",
    "        Context: {context}\"\"\"\n",
    "    )\n",
    "    llm_chain = LLMChain(\n",
    "        prompt=prompt_template,\n",
    "        llm=llm\n",
    "    )\n",
    "    print(\"====OUTPUT=====\\n\")\n",
    "    output = llm_chain({\"story_type\": \"haiku\", \"context\": \"I'm a software engineer learning to use large language models\"})\n",
    "    print(output)\n",
    "    print(output[\"text\"])"
   ]
  },
  {
   "cell_type": "markdown",
   "id": "7e9deb02",
   "metadata": {},
   "source": [
    "## Additional References\n",
    "\n",
    "[]()"
   ]
  },
  {
   "cell_type": "markdown",
   "id": "c91afd38",
   "metadata": {},
   "source": []
  }
 ],
 "metadata": {
  "language_info": {
   "name": "python"
  }
 },
 "nbformat": 4,
 "nbformat_minor": 5
}
