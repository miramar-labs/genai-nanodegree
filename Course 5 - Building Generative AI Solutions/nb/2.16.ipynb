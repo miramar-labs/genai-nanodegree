{
 "cells": [
  {
   "cell_type": "markdown",
   "id": "3d74a6c5",
   "metadata": {},
   "source": [
    "## Summary\n",
    "\n",
    "### Multimodal Search with Interface\n",
    "In this final exercise, we will learn how to use vector databases to search through images using natural language. We will be searching through an open-source image dataset using an open-source model called CLIP.\n",
    "\n",
    "This model is able to encode both images and text into the same embedding space, allowing us to retrieve images that are similar to a user question.\n",
    "\n",
    "### Gradio Interface\n",
    "At the end of the notebook is code related to [gradio](https://www.gradio.app/). gradio is a Python tool that allows for the creation of interactive web interfaces for machine learning models and data science applications with minimal code.\n",
    "\n",
    "To view the interface, click on the Links button found in the navigation bar at the bottom of the workspace window. Then click on gradio. This will open a new browser window with the interface in it.\n",
    "\n",
    "[EXERCISE](./2.16e.ipynb)"
   ]
  },
  {
   "cell_type": "markdown",
   "id": "7e9deb02",
   "metadata": {},
   "source": [
    "## Additional References\n",
    "\n",
    "[]()"
   ]
  },
  {
   "cell_type": "markdown",
   "id": "c91afd38",
   "metadata": {},
   "source": []
  }
 ],
 "metadata": {
  "language_info": {
   "name": "python"
  }
 },
 "nbformat": 4,
 "nbformat_minor": 5
}
