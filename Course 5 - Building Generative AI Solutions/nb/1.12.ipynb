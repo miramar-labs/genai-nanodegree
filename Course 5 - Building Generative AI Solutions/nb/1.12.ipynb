{
 "cells": [
  {
   "cell_type": "markdown",
   "id": "3d74a6c5",
   "metadata": {},
   "source": [
    "## Summary\n",
    "\n",
    "In this exercise, imagine you're creating a social media feature for an existing customer engagement software application. You're tasked with creating a new feature in the application that generates social media posts. This feature will be used by marketing teams.\n",
    "\n",
    "We're going to craft a prompt that generates a social media post. We're simulating a feature in a web application that might collect this information from a user in a web form. We're going to collect the name of a product, an audience persona, and a cool feature of the product to promote in the post we're going to generate.\n",
    "\n",
    "[WORKSPACE](./1.12w.ipynb)"
   ]
  },
  {
   "cell_type": "markdown",
   "id": "7e9deb02",
   "metadata": {},
   "source": [
    "## Additional References\n",
    "\n",
    "[]()"
   ]
  },
  {
   "cell_type": "markdown",
   "id": "c91afd38",
   "metadata": {},
   "source": []
  }
 ],
 "metadata": {
  "language_info": {
   "name": "python"
  }
 },
 "nbformat": 4,
 "nbformat_minor": 5
}
