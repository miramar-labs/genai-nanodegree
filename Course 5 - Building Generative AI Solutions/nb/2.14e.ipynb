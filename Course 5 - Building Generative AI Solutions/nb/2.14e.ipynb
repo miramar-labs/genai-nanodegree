{
 "cells": [
  {
   "cell_type": "markdown",
   "id": "53327472",
   "metadata": {},
   "source": [
    "# Using a Vector Database to Recommend Movies\n",
    "\n",
    "Vector search is certainly critical for generative AI, but also has lots of other interesting applications as well. One very common one is building personalized recommendations. In this exercise, we'll take a small diversion and build a quick movie recommender using a vector database."
   ]
  },
  {
   "cell_type": "markdown",
   "id": "05dc688e",
   "metadata": {},
   "source": [
    "For this exercise we'll use the [MovieLens Latest Small Dataset](https://grouplens.org/datasets/movielens/latest/), which contains 100,000 ratings and 3,600 tags applied to 9,000 movies by 600 users. The strategy we'll use is to create embeddings for the movies based on the user ratings. Then if a user rated a particular movie highly, we'll recommend \"similar\" movies, as determined by the embeddings"
   ]
  },
  {
   "cell_type": "code",
   "execution_count": null,
   "id": "70a36165",
   "metadata": {},
   "outputs": [],
   "source": [
    "import lancedb\n",
    "\n",
    "import numpy as np\n",
    "import pandas as pd"
   ]
  },
  {
   "cell_type": "markdown",
   "id": "3b0fd54d",
   "metadata": {},
   "source": [
    "The dataset is included along with this exercise:"
   ]
  },
  {
   "cell_type": "code",
   "execution_count": null,
   "id": "9546d217",
   "metadata": {},
   "outputs": [],
   "source": [
    "!ls ml-latest-small"
   ]
  },
  {
   "cell_type": "markdown",
   "id": "d9db1d9b",
   "metadata": {},
   "source": [
    "## Loading data\n",
    "\n",
    "Let's start by reading in the `ratings.csv` file. We'll use this to compute the content embeddings"
   ]
  },
  {
   "cell_type": "code",
   "execution_count": null,
   "id": "3b18fdb6",
   "metadata": {},
   "outputs": [],
   "source": [
    "ratings = pd.read_csv('./ml-latest-small/ratings.csv', header=0)\n",
    "ratings"
   ]
  },
  {
   "cell_type": "markdown",
   "id": "9545e764",
   "metadata": {},
   "source": [
    "## Computing ratings\n",
    "\n",
    "Use the ratings dataframe from above and create a new reviews dataframe of users (index) and movies (columns). Each entry (i, j) in the dataframe will be the rating that user_i gave to movie_j. If no such pair exists, then fill in the value 0.\n",
    "\n",
    "**HINT** In Excel this would be called a **pivot** table"
   ]
  },
  {
   "cell_type": "code",
   "execution_count": null,
   "id": "419a60f0",
   "metadata": {},
   "outputs": [],
   "source": [
    "<fill me in>"
   ]
  },
  {
   "cell_type": "markdown",
   "id": "58647590",
   "metadata": {},
   "source": [
    "## Computing embeddings\n",
    "\n",
    "Now let's use [matrix factorization](https://www.cs.cmu.edu/~mgormley/courses/10601-s17/slides/lecture25-mf.pdf) to extract content embeddings.\n",
    "\n",
    "Please compute the content embeddings from the reviewmatrix dataframe and name the result `embeddings`.\n",
    "\n",
    "**HINT**\n",
    "1. SVD is a popular matrix factorization technique\n",
    "2. If you're not sure which of the SVD results to use as the content embeddings, look at the shape of the results"
   ]
  },
  {
   "cell_type": "code",
   "execution_count": null,
   "id": "a408c594",
   "metadata": {},
   "outputs": [],
   "source": [
    "matrix = reviewmatrix.values\n",
    "_, _, vh = <fill me in>\n",
    "embeddings = vh.T"
   ]
  },
  {
   "cell_type": "markdown",
   "id": "00d69259",
   "metadata": {},
   "source": [
    "## Metadata\n",
    "\n",
    "Read in the `movies.csv` and `links.csv` files and make sure it is aligned with the embeddings dataframe.\n",
    "\n",
    "**HINT** pandas provides `reindex` functionality to help with data alignment"
   ]
  },
  {
   "cell_type": "code",
   "execution_count": null,
   "id": "9d499a64",
   "metadata": {},
   "outputs": [],
   "source": [
    "movies = pd.read_csv('./ml-latest-small/movies.csv', header=0)\n",
    "movies = movies.set_index(\"movieId\").reindex(reviewmatrix.columns)\n",
    "movies"
   ]
  },
  {
   "cell_type": "code",
   "execution_count": null,
   "id": "aa34a3ee",
   "metadata": {},
   "outputs": [],
   "source": [
    "# now do this for links\n",
    "\n",
    "<fill me in>"
   ]
  },
  {
   "cell_type": "markdown",
   "id": "2c7e6792",
   "metadata": {},
   "source": [
    "## Create vector database table\n",
    "\n",
    "Let's create a table with the following fields:\n",
    "\n",
    "1. an integer movie id field\n",
    "2. a vector field of embeddings\n",
    "3. a string field of genres\n",
    "4. a string field for the movie title\n",
    "5. an integer field for the imdb_id\n",
    "\n",
    "First, we'll create a pydantic model named `Content` for these fields. For the vector field, use the `lancedb.pydantic.vector` as a shorthand for the field type. Note that you'll need to pass in the number of dimensions."
   ]
  },
  {
   "cell_type": "code",
   "execution_count": null,
   "id": "1ba2d709",
   "metadata": {},
   "outputs": [],
   "source": [
    "from lancedb.pydantic import vector, LanceModel\n",
    "\n",
    "class Content(LanceModel):\n",
    "    movie_id: int\n",
    "    vector: vector(embeddings.shape[1])\n",
    "    genres: str\n",
    "    title: str\n",
    "    imdb_id: int\n",
    "        \n",
    "    @property\n",
    "    def imdb_url(self) -> str:\n",
    "        return f\"https://www.imdb.com/title/tt{self.imdb_id}\""
   ]
  },
  {
   "cell_type": "markdown",
   "id": "77ba18e0",
   "metadata": {},
   "source": [
    "Let's prepare a list of python dicts with all of the data"
   ]
  },
  {
   "cell_type": "code",
   "execution_count": null,
   "id": "f4880292",
   "metadata": {},
   "outputs": [],
   "source": [
    "values = list(zip(*[reviewmatrix.columns,\n",
    "                    embeddings, \n",
    "                    movies[\"genres\"], \n",
    "                    movies[\"title\"], \n",
    "                    links[\"imdbId\"], \n",
    "                    links[\"tmdbId\"]]))\n",
    "keys = Content.__annotations__.keys()\n",
    "data = [dict(zip(keys, v)) for v in values]\n",
    "\n",
    "data[0]"
   ]
  },
  {
   "cell_type": "markdown",
   "id": "7f9ce38d",
   "metadata": {},
   "source": [
    "Now please connect to the local database at ~/.lancedb\n",
    "and create the LanceDB table named \"movielens_small\".\n",
    "\n",
    "**HINT** you've seen this in a previous exercise"
   ]
  },
  {
   "cell_type": "code",
   "execution_count": null,
   "id": "fff19b71",
   "metadata": {},
   "outputs": [],
   "source": [
    "import pyarrow as pa\n",
    "table_name = \"movielens_small\"\n",
    "data = pa.Table.from_pylist(data, schema=Content.to_arrow_schema())\n",
    "\n",
    "<fill me in>"
   ]
  },
  {
   "cell_type": "markdown",
   "id": "2d87a3fe",
   "metadata": {},
   "source": [
    "## Generating recommendations\n",
    "\n",
    "Finally we're ready to generate recommendations based on content vector similarity.\n",
    "\n",
    "For this exercise please fill in the rest of the function to generate recommendations\n",
    "\n",
    "**HINT** It's easier if you use the pydantic integration to convert results"
   ]
  },
  {
   "cell_type": "code",
   "execution_count": null,
   "id": "117e7b5e",
   "metadata": {},
   "outputs": [],
   "source": [
    "def get_recommendations(title: str) -> list[(int, str, str)]:\n",
    "    # First we retrieve the vector for the input title\n",
    "    query_vector = (table.to_lance()\n",
    "                    .to_table(filter=f\"title='{title}'\")[\"vector\"].to_numpy()[0])\n",
    "    # Please write the code to search for the 5 most similar titles\n",
    "    <fill me in>\n",
    "    # For each result, return the movie_id, title, and imdb_url\n",
    "    return <fill me in>"
   ]
  },
  {
   "cell_type": "markdown",
   "id": "01411b02",
   "metadata": {},
   "source": [
    "If a user watched the movie titled \"Moana (2016)\", what should we recommend to the user?"
   ]
  },
  {
   "cell_type": "code",
   "execution_count": null,
   "id": "ae52400e",
   "metadata": {},
   "outputs": [],
   "source": [
    "get_recommendations(\"Moana (2016)\")"
   ]
  },
  {
   "cell_type": "markdown",
   "id": "74bd1170",
   "metadata": {},
   "source": [
    "What about \"Rogue One: A Star Wars Story (2016)\"?"
   ]
  },
  {
   "cell_type": "code",
   "execution_count": null,
   "id": "f0a31dde",
   "metadata": {},
   "outputs": [],
   "source": [
    "get_recommendations(\"Rogue One: A Star Wars Story (2016)\")"
   ]
  },
  {
   "cell_type": "markdown",
   "id": "c3288665",
   "metadata": {},
   "source": [
    "Do these look reasonable? How would you improve this recommender system?"
   ]
  },
  {
   "cell_type": "code",
   "execution_count": null,
   "id": "6ce01894",
   "metadata": {},
   "outputs": [],
   "source": []
  }
 ],
 "metadata": {
  "kernelspec": {
   "display_name": "Python 3 (ipykernel)",
   "language": "python",
   "name": "python3"
  },
  "language_info": {
   "codemirror_mode": {
    "name": "ipython",
    "version": 3
   },
   "file_extension": ".py",
   "mimetype": "text/x-python",
   "name": "python",
   "nbconvert_exporter": "python",
   "pygments_lexer": "ipython3",
   "version": "3.10.13"
  }
 },
 "nbformat": 4,
 "nbformat_minor": 5
}
