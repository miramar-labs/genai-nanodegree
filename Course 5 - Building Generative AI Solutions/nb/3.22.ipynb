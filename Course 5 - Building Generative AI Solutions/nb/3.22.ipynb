{
 "cells": [
  {
   "cell_type": "markdown",
   "id": "3d74a6c5",
   "metadata": {},
   "source": [
    "## Summary\n",
    "\n",
    "### Types of Chains in AI\n",
    "#### Router Chain\n",
    "![](./img/img11.png)\n",
    "- Purpose - Allows dynamic, non-deterministic sequences of operations based on previous step outputs.\n",
    "- Application - Adapts interactions with a large language model based on context or question type.\n",
    "- Example - A chatbot handling customer inquiries about electronics, software, and home appliances. It identifies the inquiry type and routes to the appropriate response mechanism.\n",
    "#### Sequential Chain\n",
    "![](./img/img10.png)\n",
    "- Purpose - Facilitates a series of operations where the output of one is the input for the next.\n",
    "- Application - Useful for processes needing multiple language model calls or functions in a specific order.\n",
    "- Example - Creating a product description followed by generating a review using that description.\n",
    "#### Transformation Chain\n",
    "![](./img/img12.png)\n",
    "- Purpose - Involves altering or processing inputs at various points in an operational sequence.\n",
    "- Application - Used to create pipelines for specific tasks.\n",
    "- Example - Extracting video transcripts, stripping timestamps, and then summarizing the text.\n",
    "Each of these chains serves a distinct purpose, enabling more sophisticated and context-sensitive applications of AI models in various scenarios."
   ]
  },
  {
   "cell_type": "markdown",
   "id": "7e9deb02",
   "metadata": {},
   "source": [
    "## Additional References\n",
    "\n",
    "[]()"
   ]
  },
  {
   "cell_type": "markdown",
   "id": "c91afd38",
   "metadata": {},
   "source": []
  }
 ],
 "metadata": {
  "language_info": {
   "name": "python"
  }
 },
 "nbformat": 4,
 "nbformat_minor": 5
}
