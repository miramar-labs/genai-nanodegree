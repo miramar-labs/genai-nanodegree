{
 "cells": [
  {
   "cell_type": "markdown",
   "id": "3d74a6c5",
   "metadata": {},
   "source": [
    "## Summary\n",
    "\n",
    "An AI agent is a software program that performs automated tasks, often mimicking human behavior or decision-making processes. Because large language models are capable of reasoning and planning tasks, they can be used to create agents.\n",
    "\n",
    "![](./img/img2.png)\n",
    "\n",
    "ReAct Prompting:\n",
    "\n",
    "![](./img/img3.png)\n",
    "\n",
    "An example of a health wellness reAct prompt might be:\n",
    "\n",
    "![](./img/img4.png)\n",
    "\n",
    "Tools like OpenAI API function calling and LangChain enable output from a large language model to trigger actions in external systems, allowing an agent to interact with an external environment and make decisions in an autonomous way.\n",
    "\n",
    "- Agents use large language models to generate both reasoning traces and task-specific actions.\n",
    "- The reasoning aspect involves the AI agent thinking through a problem, breaking it down into smaller, manageable parts, and forming a plan or series of steps to solve it.\n",
    "- The action component allows the agent to interact with external sources like databases or the internet to gather additional information relevant to the task at hand.\n",
    "- Agents can operate autonomously or semi-autonomously within a specific environment, executing tasks, making decisions, or solving problems without continuous human guidance. Agents can perceive and react to their environment, which might be digital, like data from a database or retrieving data from the internet, and responding promptly to changes. For instance, a chatbot sending an email based on a user goal, or taking actions based on data from a database, or collecting data from the user.\n",
    "Beyond just reacting to the environment, AI agents often exhibit goal-oriented behavior, taking proactive initiative based on their objectives or planning how to solve a problem. Many AI agents interact with other agents, including humans, to accomplish their tasks. You can even set up LLM-based agents that use other LLM agents.\n",
    "\n",
    "ReAct Prompting for Agents\n",
    "A popular prompting method called ReAct can be used to create LLM-based agents. REACT prompt techniques use LLMs to generate both reasoning traces and task-specific actions.\n",
    "\n",
    "- The reasoning aspect involves the AI agent thinking through a problem, breaking it down into smaller, manageable parts, and forming a plan or series of steps to solve it.\n",
    "- The action component allows the agent to make decisions about gathering additional information relevant to the task.\n",
    "- The observation step often involves delivering a final response about a task or recording an event. These observations can be used for further reasoning. REACT-enabled agents actively seek out new information, update their understanding, and refine their reasoning based on observations.\n",
    "A REACT prompt for a wellness agent might be:\n",
    "\n",
    "\"Your goal is to improve the wellness of the user by interleaving thought, action, and observation.\"\n",
    "\n",
    "Agents involve an LLM making decisions about which Actions to take, taking that Action, seeing an Observation, and repeating that until done."
   ]
  },
  {
   "cell_type": "markdown",
   "id": "7e9deb02",
   "metadata": {},
   "source": [
    "## Additional References\n",
    "\n",
    "[]()"
   ]
  },
  {
   "cell_type": "markdown",
   "id": "c91afd38",
   "metadata": {},
   "source": []
  }
 ],
 "metadata": {
  "language_info": {
   "name": "python"
  }
 },
 "nbformat": 4,
 "nbformat_minor": 5
}
