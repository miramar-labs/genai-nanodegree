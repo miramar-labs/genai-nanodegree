{
 "cells": [
  {
   "cell_type": "markdown",
   "id": "3d74a6c5",
   "metadata": {},
   "source": [
    "## Summary\n",
    "\n",
    "Now, let's put all the pieces together to create the project management assistant.\n",
    "\n",
    "In this exercise, you'll build a project management assistant that uses the OpenAI API function calling. You'll use reading and writing to a CSV file to simulate reading and writing from a database or project management tool API.\n",
    "\n",
    "[EXERCISE](./nb/1.19e.ipynb)"
   ]
  },
  {
   "cell_type": "markdown",
   "id": "7e9deb02",
   "metadata": {},
   "source": [
    "## Additional References\n",
    "\n",
    "[]()"
   ]
  },
  {
   "cell_type": "markdown",
   "id": "c91afd38",
   "metadata": {},
   "source": []
  }
 ],
 "metadata": {
  "language_info": {
   "name": "python"
  }
 },
 "nbformat": 4,
 "nbformat_minor": 5
}
