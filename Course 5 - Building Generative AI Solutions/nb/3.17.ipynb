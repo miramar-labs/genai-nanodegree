{
 "cells": [
  {
   "cell_type": "markdown",
   "id": "3d74a6c5",
   "metadata": {},
   "source": [
    "## Summary\n",
    "\n",
    "![](./img/img9.png)\n",
    "\n",
    "### Transformers, Embeddings, and Retrievers\n",
    "Creating a robust information retrieval syste involves a complex system that combines vector stores, embeddings, and retrievers.\n",
    "\n",
    "- Vector Store Index Creator - integrates vector stores, embeddings, and retrievers, streamlining the process of setting up an information retrieval system.\n",
    "  \n",
    "### Key Steps in the Process\n",
    "- Document Loading - The first step involves loading data into the system using various loader components.\n",
    "- Document Splitting - Documents are split into smaller chunks for more precise matching between user queries and document content.\n",
    "- Embedding Transformation - Each document chunk is transformed into an embedding. Embeddings are numerical representations of text in a high-dimensional space, where similar meanings are placed close together.\n",
    "- Vector Database Storage - Embeddings are stored in a vector database like ChromaDB, designed for high-dimensional vectors and semantic search operations.\n",
    "- Semantic Search - This system uses ChromaDB to perform semantic searches, finding documents based on context and meaning.\n",
    "- Question-Answering (QA) Chain - The system uses the output from the semantic search to contextualize and generate responses to queries, utilizing semantically relevant documents from the knowledge base.\n",
    "The interplay of character splitters, embeddings, and vector databases allows the system to mimic human context and nuance understanding."
   ]
  },
  {
   "cell_type": "markdown",
   "id": "7e9deb02",
   "metadata": {},
   "source": [
    "## Additional References\n",
    "\n",
    "[]()"
   ]
  },
  {
   "cell_type": "markdown",
   "id": "c91afd38",
   "metadata": {},
   "source": []
  }
 ],
 "metadata": {
  "language_info": {
   "name": "python"
  }
 },
 "nbformat": 4,
 "nbformat_minor": 5
}
