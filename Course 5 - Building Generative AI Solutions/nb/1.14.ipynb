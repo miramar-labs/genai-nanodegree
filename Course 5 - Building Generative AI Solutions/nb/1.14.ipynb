{
 "cells": [
  {
   "cell_type": "markdown",
   "id": "3d74a6c5",
   "metadata": {},
   "source": [
    "## Summary\n",
    "\n",
    "In this exercise, we'll explore creating a wellness agent using REACT prompting techniques. The objective is to create an AI-powered wellness agent that interprets and responds to user inputs in a structured and meaningful way, leveraging the OpenAI GPT 3.5 model.\n",
    "\n",
    "[WORKSPACE](./nb/1.14e.ipynb)"
   ]
  },
  {
   "cell_type": "markdown",
   "id": "7e9deb02",
   "metadata": {},
   "source": [
    "## Additional References\n",
    "\n",
    "[]()"
   ]
  },
  {
   "cell_type": "markdown",
   "id": "c91afd38",
   "metadata": {},
   "source": []
  }
 ],
 "metadata": {
  "language_info": {
   "name": "python"
  }
 },
 "nbformat": 4,
 "nbformat_minor": 5
}
