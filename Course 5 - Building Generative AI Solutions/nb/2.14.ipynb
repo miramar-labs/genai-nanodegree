{
 "cells": [
  {
   "cell_type": "markdown",
   "id": "3d74a6c5",
   "metadata": {},
   "source": [
    "## Summary\n",
    "\n",
    "### Using a Vector Database to Recommend Movies\n",
    "Vector search is critical for generative AI, but also have lots of interesting applications outside of gen AI. One very common one is building personalized recommendations.\n",
    "\n",
    "In this exercise, we'll take a small diversion and build a quick movie recommender using a vector database.\n",
    "\n",
    "For this recommender, we'll use the [MovieLens Latest Small Dataset](https://grouplens.org/datasets/movielens/latest/), which contains 100,000 ratings and 3,600 tag applications applied to 9,000 movies by 600 users. The strategy we'll use is to create embeddings for the movies based on the overall watch history of users. Then if a user watches a particular movie, we'll recommend \"similar\" movies, where similar is determined by revealed preferences, rather than by pre-determined features like genre, release year, etc.\n",
    "\n",
    "### Loading data\n",
    "We'll end up using the ratings.csv as our data table and we'll also use movies.csv and links.csv to get the movie metadata.\n",
    "\n",
    "Let's start by reading in the ratings.csv file. We'll use this to compute the content embeddings.\n",
    "\n",
    "### Computing ratings\n",
    "Now we'll use the ratings data to create a new reviews dataframe of users (index) and movies (columns). Each entry (i, j) in the dataframe will be the rating that user_i gave to movie_j. If no such pair exists, then fill in the value 0.\n",
    "\n",
    "**HINT** In Excel this would be called a pivot table\n",
    "\n",
    "### Computing embeddings\n",
    "Now let's use [matrix factorization](https://www.cs.cmu.edu/~mgormley/courses/10601-s17/slides/lecture25-mf.pdf) to extract content embeddings.\n",
    "\n",
    "We'll write a function to compute the content embeddings from the reviewmatrix dataframe and name the result embeddings.\n",
    "\n",
    "**HINT**\n",
    "\n",
    "SVD is a popular matrix factorization technique\n",
    "If you're not sure which of the SVD results to use as the content embeddings, look at the shape of the results\n",
    "Metadata\n",
    "Read in the movies.csv and links.csv files and make sure it is aligned with the embeddings dataframe.\n",
    "\n",
    "HINT pandas provides reindex functionality to help with data alignment\n",
    "\n",
    "### Create vector database table\n",
    "Now that we have all of the data, let's create a table with the following fields:\n",
    "\n",
    "- an integer movie id field\n",
    "- a vector field of embeddings\n",
    "- a string field of genres\n",
    "- a string field for the movie title\n",
    "- an integer field for the imdb_id\n",
    "  \n",
    "First, we'll create a pydantic model named Content for these fields, and prepare a list of python dicts with all of the data. Then, like we've done before, we'll connect to the local database at `~/.lancedb` and create the LanceDB table named \"movielens_small\".\n",
    "\n",
    "### Generating recommendations\n",
    "Finally we're ready to generate recommendations based on content vector similarity.\n",
    "\n",
    "For this exercise please fill in the rest of the function to generate recommendations\n",
    "\n",
    "**HINT** It's easier if you use the pydantic integration to convert results\n",
    "\n",
    "\n",
    "[EXERCISE](./2.14e.ipynb)"
   ]
  },
  {
   "cell_type": "markdown",
   "id": "7e9deb02",
   "metadata": {},
   "source": [
    "## Additional References\n",
    "\n",
    "[]()"
   ]
  },
  {
   "cell_type": "markdown",
   "id": "c91afd38",
   "metadata": {},
   "source": []
  }
 ],
 "metadata": {
  "language_info": {
   "name": "python"
  }
 },
 "nbformat": 4,
 "nbformat_minor": 5
}
