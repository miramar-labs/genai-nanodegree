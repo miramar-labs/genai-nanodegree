{
 "cells": [
  {
   "cell_type": "markdown",
   "id": "3d74a6c5",
   "metadata": {},
   "source": [
    "## Summary\n",
    "\n",
    "The Base Models have a training 'cut off date'. For Example GPT-4o was trained on data that existed up to October 2023. So if you ask it anything about what happened after that, it cannot possibly give a correct answer. \n",
    "\n",
    "For example:\n",
    "\n",
    "        curl https://api.openai.com/v1/chat/completions \\\n",
    "        -H \"Authorization: Bearer <TOKEN>\" \\\n",
    "        -H \"Content-Type: application/json\" \\\n",
    "        -d '{\n",
    "            \"model\": \"gpt-4o\",\n",
    "            \"messages\": [\n",
    "            {\"role\": \"user\", \"content\": \"Who won the 2024 US election?\"}\n",
    "            ],\n",
    "            \"temperature\": 0.7\n",
    "        }'\n",
    "RESPONSE:\n",
    "\n",
    "        {\n",
    "        \"id\": \"chatcmpl-BuRnPfbXgaMwDk5JmcpFnJIDNrY6c\",\n",
    "        \"object\": \"chat.completion\",\n",
    "        \"created\": 1752792915,\n",
    "        \"model\": \"gpt-4o-2024-08-06\",\n",
    "        \"choices\": [\n",
    "            {\n",
    "            \"index\": 0,\n",
    "            \"message\": {\n",
    "                \"role\": \"assistant\",\n",
    "                \"content\": \"I'm sorry, but I don't have information on events occurring after October 2023, including the results of the 2024 U.S. election. You might want to check the latest news sources for the most current information.\",\n",
    "                \"refusal\": null,\n",
    "                \"annotations\": []\n",
    "            }}]}\n",
    "\n",
    "Note: To ensure you are talking to the base model only, you must use the API - the interactive ChatGPT interface behaves more like an agent, doing search (RAG) when it needs up to date information."
   ]
  },
  {
   "cell_type": "markdown",
   "id": "7e9deb02",
   "metadata": {},
   "source": [
    "## Additional References\n",
    "\n",
    "[]()"
   ]
  },
  {
   "cell_type": "markdown",
   "id": "c91afd38",
   "metadata": {},
   "source": []
  }
 ],
 "metadata": {
  "language_info": {
   "name": "python"
  }
 },
 "nbformat": 4,
 "nbformat_minor": 5
}
