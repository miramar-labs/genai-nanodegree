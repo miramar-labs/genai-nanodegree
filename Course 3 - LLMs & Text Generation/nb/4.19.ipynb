{
 "cells": [
  {
   "cell_type": "markdown",
   "id": "3d74a6c5",
   "metadata": {},
   "source": [
    "## Summary\n",
    "\n",
    "### Tokens in OpenAI\n",
    "A token is similar to, but not exactly the same as, a word. OpenAI has a helpful [tokenizer web interface](https://platform.openai.com/tokenizer) where you can try out some different text examples to see how many tokens they contain. Below is a screenshot of an example:\n",
    "\n",
    "When passing context to an LLM, we can use the `tiktoken API` to count the number of tokens we are passing in.... this is important so that we don't:\n",
    "\n",
    "    - overflow the LLM context window\n",
    "    - blow our token budget "
   ]
  },
  {
   "cell_type": "markdown",
   "id": "7e9deb02",
   "metadata": {},
   "source": [
    "## Additional References\n",
    "\n",
    "[]()"
   ]
  },
  {
   "cell_type": "markdown",
   "id": "c91afd38",
   "metadata": {},
   "source": []
  }
 ],
 "metadata": {
  "language_info": {
   "name": "python"
  }
 },
 "nbformat": 4,
 "nbformat_minor": 5
}
