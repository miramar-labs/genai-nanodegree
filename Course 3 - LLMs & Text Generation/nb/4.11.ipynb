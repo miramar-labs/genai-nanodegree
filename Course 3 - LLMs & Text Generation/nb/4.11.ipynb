{
 "cells": [
  {
   "cell_type": "markdown",
   "id": "3d74a6c5",
   "metadata": {},
   "source": [
    "## Summary\n",
    "\n",
    "### Machine Learning and Text Data\n",
    "There are three common types of numeric representations for text data:\n",
    "\n",
    "- ASCII\n",
    "- One-hot encoding\n",
    "- Embeddings\n",
    "\n",
    "Only Embeddings are capable of encoding semantic and positional context, so are used heavily in LLMs\n"
   ]
  },
  {
   "cell_type": "markdown",
   "id": "7e9deb02",
   "metadata": {},
   "source": [
    "## Additional References\n",
    "\n",
    "[]()"
   ]
  },
  {
   "cell_type": "markdown",
   "id": "c91afd38",
   "metadata": {},
   "source": []
  }
 ],
 "metadata": {
  "language_info": {
   "name": "python"
  }
 },
 "nbformat": 4,
 "nbformat_minor": 5
}
