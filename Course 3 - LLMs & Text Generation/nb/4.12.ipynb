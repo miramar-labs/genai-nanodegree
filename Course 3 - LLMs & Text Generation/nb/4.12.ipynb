{
 "cells": [
  {
   "cell_type": "markdown",
   "id": "3d74a6c5",
   "metadata": {},
   "source": [
    "## Summary\n",
    "\n",
    "### Text Embeddings\n",
    "Embeddings are a sophisticated technique for converting text into vectors of numbers using a pre-trained machine learning model. Instead of each number in the vector indicating the presence or absence of a word, **each number in the vector represents a dimension identified by the model**. All text samples result in the same number of columns and we can therefore compare any two text datasets based on their embeddings!\n",
    "\n",
    "![](./img/img42.png)"
   ]
  },
  {
   "cell_type": "markdown",
   "id": "7e9deb02",
   "metadata": {},
   "source": [
    "## Additional References\n",
    "\n",
    "[]()"
   ]
  },
  {
   "cell_type": "markdown",
   "id": "c91afd38",
   "metadata": {},
   "source": []
  }
 ],
 "metadata": {
  "language_info": {
   "name": "python"
  }
 },
 "nbformat": 4,
 "nbformat_minor": 5
}
