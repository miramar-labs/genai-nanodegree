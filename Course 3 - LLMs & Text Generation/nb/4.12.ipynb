{
 "cells": [
  {
   "cell_type": "markdown",
   "id": "3d74a6c5",
   "metadata": {},
   "source": [
    "## Summary\n",
    "\n",
    "### Text Embeddings\n",
    "Embeddings are a sophisticated technique for converting text into vectors of numbers using a pre-trained machine learning model. Instead of each number in the vector indicating the presence or absence of a word, **each number in the vector represents a dimension identified by the model**. All text samples result in the same number of columns and we can therefore compare any two text datasets based on their embeddings!\n",
    "\n",
    "![](./img/img42.png)\n",
    "\n",
    "🧠 Embedding Model\n",
    "- A neural model (like Word2Vec, Sentence-BERT, OpenAI Embeddings, etc.)\n",
    "\n",
    "- Purpose: Takes raw data (e.g., text, images) as input and produces dense vector representations (embeddings)\n",
    "\n",
    "- Example Output:\n",
    "\"hello world\" → [0.25, -0.74, 0.92, ..., 0.01] (a 768-dim vector)\n",
    "\n",
    "Embedding Models are used by Embedding Indexes, they are not the same thing."
   ]
  },
  {
   "cell_type": "markdown",
   "id": "7e9deb02",
   "metadata": {},
   "source": [
    "## Additional References\n",
    "\n",
    "[]()"
   ]
  },
  {
   "cell_type": "markdown",
   "id": "c91afd38",
   "metadata": {},
   "source": []
  }
 ],
 "metadata": {
  "language_info": {
   "name": "python"
  }
 },
 "nbformat": 4,
 "nbformat_minor": 5
}
