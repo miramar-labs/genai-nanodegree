{
 "cells": [
  {
   "cell_type": "markdown",
   "id": "3d74a6c5",
   "metadata": {},
   "source": [
    "## Summary\n",
    "\n",
    "### Sequences\n",
    "Text can be treated as a sequence of characters, words, tokens, or embeddings.\n",
    "\n",
    "Depending on the task, there are different model architectures to handle the sequence.\n",
    "\n",
    "![](./img/img10.png)\n",
    "\n",
    "![](./img/img11.png)\n",
    "\n",
    "### Encoder-Decoder Models\n",
    "\n",
    "For an encoder-decoder model, the encoder encodes the input sequence into a representation of context while the decoder decodes this representation to generate an output sequence.\n",
    "\n",
    "![](./img/img12.png)"
   ]
  },
  {
   "cell_type": "markdown",
   "id": "7e9deb02",
   "metadata": {},
   "source": [
    "## Additional References\n",
    "\n",
    "[]()"
   ]
  },
  {
   "cell_type": "markdown",
   "id": "c91afd38",
   "metadata": {},
   "source": []
  }
 ],
 "metadata": {
  "language_info": {
   "name": "python"
  }
 },
 "nbformat": 4,
 "nbformat_minor": 5
}
