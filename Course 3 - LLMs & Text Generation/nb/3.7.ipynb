{
 "cells": [
  {
   "cell_type": "markdown",
   "id": "3d74a6c5",
   "metadata": {},
   "source": [
    "## Summary\n",
    "\n",
    "Auto-regressive models trained on data created by human beings (e.g., data from the internet) will exhibit many of the same biases of those human beings. Thus, being able to visualize what's happening inside transformers is important to understanding this bias. \n",
    "\n",
    "One tool for visualizing attention is [BertViz](https://github.com/jessevig/bertviz?tab=readme-ov-file#self-attention-models-bert-gpt-2-etc).\n",
    "\n",
    "[DEMO](./3.7d.ipynb)"
   ]
  },
  {
   "cell_type": "markdown",
   "id": "7e9deb02",
   "metadata": {},
   "source": [
    "## Additional References\n",
    "\n",
    "[BertViz Paper](https://aclanthology.org/P19-3007.pdf)\n",
    "\n",
    "[BertViz Colab Tutorial](https://colab.research.google.com/drive/1hXIQ77A4TYS4y3UthWF-Ci7V7vVUoxmQ?usp=sharing)"
   ]
  },
  {
   "cell_type": "markdown",
   "id": "c91afd38",
   "metadata": {},
   "source": []
  }
 ],
 "metadata": {
  "language_info": {
   "name": "python"
  }
 },
 "nbformat": 4,
 "nbformat_minor": 5
}
