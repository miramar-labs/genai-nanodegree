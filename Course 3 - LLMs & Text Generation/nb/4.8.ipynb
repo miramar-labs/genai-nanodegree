{
 "cells": [
  {
   "cell_type": "markdown",
   "id": "3d74a6c5",
   "metadata": {},
   "source": [
    "## Summary\n",
    "\n",
    "### Finding a Custom Dataset\n",
    "A custom dataset can be just about anything that will help the model respond differently to a query. That can include:\n",
    "\n",
    "information about events that happened after the training period\n",
    "data that was private at the time of training\n",
    "data for a specific context\n",
    "\n",
    "### Data Sources\n",
    "There are many possible data sources, but in this course, we'll focus on the two most common: web sources and documents on hand.\n",
    "\n",
    "#### Web sources\n",
    "Web sources include any data that is accessible via the internet. This data tends to be updated more frequently, which means that it is more likely to be current. On the other hand, the shape of the dataset can also be updated and might break your code pipeline.\n",
    "\n",
    "Web sources are typically accessed through:\n",
    "\n",
    "- **API (Application Programming Interface)**: a set of protocols designed to share data\n",
    "- **Web scraping**: automated extraction of data from websites using software tools\n",
    "In Python, web data sources can be easily accessed using the [requests](https://pypi.org/project/requests/) library.\n",
    "\n",
    "#### Documents on hand\n",
    "Documents on hand include any files that you can download to your computer and store for future use, including:\n",
    "\n",
    "- spreadsheets\n",
    "- word processing documents\n",
    "- text files\n",
    "Python has tools for loading this data, too. The appropriate Python tool for loading the document will depend on the file type."
   ]
  },
  {
   "cell_type": "markdown",
   "id": "7e9deb02",
   "metadata": {},
   "source": [
    "## Additional References\n",
    "\n",
    "[]()"
   ]
  },
  {
   "cell_type": "markdown",
   "id": "c91afd38",
   "metadata": {},
   "source": []
  }
 ],
 "metadata": {
  "language_info": {
   "name": "python"
  }
 },
 "nbformat": 4,
 "nbformat_minor": 5
}
