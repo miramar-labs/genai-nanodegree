{
 "cells": [
  {
   "cell_type": "markdown",
   "id": "3d74a6c5",
   "metadata": {},
   "source": [
    "## Summary\n",
    "\n",
    "### Step 1: Prepare a Dataset with Embeddings\n",
    "In our tutorial, we will pull text data from the [Wikipedia page about the year 2022](https://en.wikipedia.org/wiki/2022). In your exercises, you will pull text data from the [Wikipedia page about the 2023 Turkey-Syria earthquake](https://en.wikipedia.org/wiki/2023_Turkey%E2%80%93Syria_earthquake).\n",
    "\n",
    "In each case, our dataset is initially composed of text data. Before any machine learning model can make sense of any kind of data, that data needs to be converted into numbers. For our unsupervised machine learning model, we are going to use text data that has been transformed into vectors of floating point numbers. These vectors are called **embeddings** and we will use an OpenAI Embedding model to generate them.\n",
    "\n",
    "![](./img/img41.png)\n",
    "\n",
    "### Step 2: Find Relevant Data with Unsupervised Machine Learning\n",
    "Once our dataset has been converted into embeddings, we can get a question from the user and perform a text search of our dataset using a measure called **cosine similarity**. This is more sophisticated than a basic text matching search because it uses the underlying embedding vector representation of the text, not just the exact wording used in the question.\n",
    "\n",
    "![](./img/img38.png)\n",
    "\n",
    "### Step 3: Compose a Custom Text Prompt\n",
    "We will use the results of the previous step to compose a custom text prompt that incorporates both the user's question and the most relevant context from our dataset. We will use a tokenizer to measure the length of our prompt and ensure that it doesn't exceed the limits of the OpenAI Completion model.\n",
    "\n",
    "![](./img/img39.png)\n",
    "\n",
    "### Step 4: Query a Completion Model\n",
    "Once we have the custom text prompt, the last step is to send that prompt to an OpenAI text completion model and parse the response. This will provide the user with a tailored answer to their question!\n",
    "\n",
    "![](./img/img40.png)"
   ]
  },
  {
   "cell_type": "markdown",
   "id": "7e9deb02",
   "metadata": {},
   "source": [
    "## Additional References\n",
    "\n",
    "[]()"
   ]
  },
  {
   "cell_type": "markdown",
   "id": "c91afd38",
   "metadata": {},
   "source": []
  }
 ],
 "metadata": {
  "language_info": {
   "name": "python"
  }
 },
 "nbformat": 4,
 "nbformat_minor": 5
}
