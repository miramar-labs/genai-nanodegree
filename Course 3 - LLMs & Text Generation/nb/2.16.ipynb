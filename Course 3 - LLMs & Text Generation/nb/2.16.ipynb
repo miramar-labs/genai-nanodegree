{
 "cells": [
  {
   "cell_type": "markdown",
   "id": "3d74a6c5",
   "metadata": {},
   "source": [
    "## Summary\n",
    "\n",
    "### RNNs Process Sequences\n",
    "RNNs process text data as a sequence, one piece at a time, with a dependence on previous inputs and using a \"hidden state\" to pass past information farther down the chain.\n",
    "\n",
    "![](./img/img13.png)\n",
    "\n",
    "### Text Generation with RNNs\n",
    "RNNs can generate new text indefinitely by feeding output as input.\n",
    "\n",
    "![](./img/img14.png)\n",
    "\n",
    "### Disadvantages of RNNs\n",
    "- The vanishing gradient problem is when the RNN has trouble \"remembering\" distant/earlier inputs.\n",
    "- RNNs are sequential in nature, which makes training and usage slow, especially when the data are large.\n",
    "  \n",
    "#### What are Vanishing Gradients?\n",
    "Vanishing gradients happen when, during training of a deep neural network, the gradients (the values used to update the model’s weights) become very small as they move backward through the layers. When gradients are tiny, the model's earlier layers stop learning effectively because the updates to their weights are almost zero. This makes it hard for the model to improve, leading to slow or stalled learning, especially in deep networks.\n"
   ]
  },
  {
   "cell_type": "markdown",
   "id": "7e9deb02",
   "metadata": {},
   "source": [
    "## Additional References\n",
    "\n",
    "[StatQuest: RNNs](https://www.youtube.com/watch?v=AsNTP8Kwu80)\n",
    "\n",
    "[StatQuest: LSTMs](https://www.youtube.com/watch?v=YCzL96nL7j0)\n",
    "\n",
    "[Understanding LSTMs](https://colah.github.io/posts/2015-08-Understanding-LSTMs/)\n",
    "\n",
    "[RNN Tutorial - Pt 1](https://dennybritz.com/posts/wildml/recurrent-neural-networks-tutorial-part-1/)\n",
    "\n",
    "[RNN Tutorial - Pt 2](https://dennybritz.com/posts/wildml/recurrent-neural-networks-tutorial-part-2/)\n",
    "\n",
    "[RNN Tutorial - Pt 3](https://dennybritz.com/posts/wildml/recurrent-neural-networks-tutorial-part-3/)\n",
    "\n",
    "[RNN Tutorial - Pt 4](https://dennybritz.com/posts/wildml/recurrent-neural-networks-tutorial-part-4/)\n",
    "\n"
   ]
  },
  {
   "cell_type": "markdown",
   "metadata": {},
   "source": []
  },
  {
   "cell_type": "markdown",
   "id": "c91afd38",
   "metadata": {},
   "source": []
  }
 ],
 "metadata": {
  "language_info": {
   "name": "python"
  }
 },
 "nbformat": 4,
 "nbformat_minor": 5
}
