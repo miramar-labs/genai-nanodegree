{
 "cells": [
  {
   "cell_type": "markdown",
   "id": "3d74a6c5",
   "metadata": {},
   "source": [
    "## Summary\n",
    "\n",
    "### Loading the Data into a DataFrame\n",
    "Before we use our data, we need to get the data and make sure it is in a form we can use. There are a lot of ways to do that, but in this course, we will use a [pandas DataFrame](https://pandas.pydata.org/docs/user_guide/dsintro.html#dataframe).\n",
    "\n",
    "We want to set up our DataFrame called df so there is only one column, \"text\". Each row will contain one snippet of text.\n",
    "\n",
    "In this demo, we walked through how to load the data from the 2022 Wikipedia dataset:\n",
    "\n",
    "Importing pandas library\n",
    "Creating a DataFrame called df\n",
    "Adding the list of strings from the previous step to df as a column called \"text\"\n",
    "Below is the version of this code used in the case study notebook:\n",
    "\n",
    "        import pandas as pd\n",
    "\n",
    "        # Load page text into a dataframe\n",
    "        df = pd.DataFrame()\n",
    "        df[\"text\"] = response_dict[\"query\"][\"pages\"][0][\"extract\"].split(\"\\n\")\n",
    "\n",
    "### Wrangling the Data for Ingestion into the Model\n",
    "Data from the API is much cleaner than raw website source code, but it still needs some work to be ideally configured for our purposes.\n",
    "\n",
    "In this demo, we walked through how to wrangle and clean the data in df:\n",
    "\n",
    "- Addressing the problem of empty rows by subsetting to include only rows where the length is > 0\n",
    "- Addressing the problem of headings by subsetting to exclude rows where the text starts with ==\n",
    "- Addressing the problem of rows without dates using a date parser and somewhat more complex logic\n",
    "  \n",
    "Below is the version of this code used in the case study notebook:\n",
    "\n",
    "        from dateutil.parser import parse\n",
    "\n",
    "        # Clean up text to remove empty lines and headings\n",
    "        df = df[(df[\"text\"].str.len() > 0) & (~df[\"text\"].str.startswith(\"==\"))]\n",
    "\n",
    "        # In some cases dates are used as headings instead of being part of the\n",
    "        # text sample; adjust so dated text samples start with dates\n",
    "        prefix = \"\"\n",
    "        for (i, row) in df.iterrows():\n",
    "            # If the row already has \" - \", it already has the needed date prefix\n",
    "            if \" – \" not in row[\"text\"]:\n",
    "                try:\n",
    "                    # If the row's text is a date, set it as the new prefix\n",
    "                    parse(row[\"text\"])\n",
    "                    prefix = row[\"text\"]\n",
    "                except:\n",
    "                    # If the row's text isn't a date, add the prefix\n",
    "                    row[\"text\"] = prefix + \" – \" + row[\"text\"]\n",
    "        df = df[df[\"text\"].str.contains(\" – \")].reset_index(drop=True)"
   ]
  },
  {
   "cell_type": "markdown",
   "id": "7e9deb02",
   "metadata": {},
   "source": [
    "## Additional References\n",
    "\n",
    "[Pandas Documentation](https://pandas.pydata.org/docs/)"
   ]
  },
  {
   "cell_type": "markdown",
   "id": "c91afd38",
   "metadata": {},
   "source": []
  }
 ],
 "metadata": {
  "language_info": {
   "name": "python"
  }
 },
 "nbformat": 4,
 "nbformat_minor": 5
}
