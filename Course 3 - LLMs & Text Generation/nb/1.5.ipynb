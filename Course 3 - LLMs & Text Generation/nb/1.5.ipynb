{
 "cells": [
  {
   "cell_type": "markdown",
   "id": "3d74a6c5",
   "metadata": {},
   "source": [
    "## Summary\n",
    "- Completion Models\n",
    "  - pre-trained on web-scraped data only, no fine-tuning\n",
    "  - (will often answer a Q with another Q)\n",
    "  - eg: GPT-3\n",
    "    - completion of text, messages, code\n",
    "- Instruction-Following Models\n",
    "  - post pre-training, these have been fine-tuned to answer questions\n",
    "    - SFT (supervised fine-tuning)\n",
    "    - <instruction,response> pairs in training data\n",
    "  - eg: ChatGPT\n",
    "    - Translation, QnA, Text Extraction/Summarizarion"
   ]
  },
  {
   "cell_type": "markdown",
   "id": "7e9deb02",
   "metadata": {},
   "source": [
    "## Additional References\n",
    "\n",
    "[OpenAI: Training language models to follow instructions with human feedback](https://arxiv.org/abs/2203.02155)"
   ]
  },
  {
   "cell_type": "markdown",
   "id": "c91afd38",
   "metadata": {},
   "source": []
  }
 ],
 "metadata": {
  "language_info": {
   "name": "python"
  }
 },
 "nbformat": 4,
 "nbformat_minor": 5
}
