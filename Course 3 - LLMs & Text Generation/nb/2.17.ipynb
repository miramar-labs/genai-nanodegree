{
 "cells": [
  {
   "cell_type": "markdown",
   "id": "3d74a6c5",
   "metadata": {},
   "source": [
    "## Summary\n",
    "\n",
    "### Generating Text with Autoregressive Models\n",
    "The goal in generating text (abstractive answers, chatbot conversations, etc.) is to capture the essence of what is to be generated.\n",
    "\n",
    "![](./img/img15.png)\n",
    "\n",
    "**Autoregressive models** take in one input at a time and use previously generated tokens as input to create potentially very long output sequences.\n",
    "\n",
    "A **stochastic process** is used to generate the text by **choosing at random** the next token based on the token's probability weight."
   ]
  },
  {
   "cell_type": "markdown",
   "id": "7e9deb02",
   "metadata": {},
   "source": [
    "## Additional References\n",
    "\n",
    "[]()"
   ]
  },
  {
   "cell_type": "markdown",
   "id": "c91afd38",
   "metadata": {},
   "source": []
  }
 ],
 "metadata": {
  "language_info": {
   "name": "python"
  }
 },
 "nbformat": 4,
 "nbformat_minor": 5
}
