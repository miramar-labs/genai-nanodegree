{
 "cells": [
  {
   "cell_type": "markdown",
   "id": "3d74a6c5",
   "metadata": {},
   "source": [
    "## Summary\n",
    "\n",
    "In causal language modeling, we perform open-ended text generation where we seek to predict the next token in the sequence.\n",
    "\n",
    "In a causal language modeling dataset, we want to gather text and chunk it so that we can learn sequences of tokens. This way, given an initial prompt, the model will generate the most probable tokens that complete that sequence.\n",
    "\n",
    "In the demo below, we will use two text files ('CVE-2020-29583.txt' and 'xss.txt') containing cybersecurity vulnerability information to fine-tune a model for text summarization.\n",
    "\n",
    "[DEMO WORKSPACE](./5.15d.ipynb)"
   ]
  },
  {
   "cell_type": "markdown",
   "id": "7e9deb02",
   "metadata": {},
   "source": [
    "## Additional References\n",
    "\n",
    "[]()"
   ]
  },
  {
   "cell_type": "markdown",
   "id": "c91afd38",
   "metadata": {},
   "source": []
  }
 ],
 "metadata": {
  "language_info": {
   "name": "python"
  }
 },
 "nbformat": 4,
 "nbformat_minor": 5
}
