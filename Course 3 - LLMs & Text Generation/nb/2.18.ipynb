{
 "cells": [
  {
   "cell_type": "markdown",
   "id": "3d74a6c5",
   "metadata": {},
   "source": [
    "## Summary\n",
    "\n",
    "Autoregressive models tend to repeat the same tokens in its output sequence, so sampling methods are frequently used for choosing the next token where the probability of a particular token is chosen.\n",
    "\n",
    "### Sampling Methods for Tokens\n",
    "- **Temperature**: adjusts the randomness in choosing the next token\n",
    "- **Top-k** sampling: samples from only the k most likely tokens\n",
    "- **Nucleus or top-p** sampling: uses a dynamic cutoff for sampling the most likely tokens (cumulative probability is under p)\n",
    "- **Beam search**: considers the likelihood of strings of multiple tokens instead of just a single next token"
   ]
  },
  {
   "cell_type": "markdown",
   "id": "7e9deb02",
   "metadata": {},
   "source": [
    "## Additional References\n",
    "\n",
    "[]()"
   ]
  },
  {
   "cell_type": "markdown",
   "id": "c91afd38",
   "metadata": {},
   "source": []
  }
 ],
 "metadata": {
  "language_info": {
   "name": "python"
  }
 },
 "nbformat": 4,
 "nbformat_minor": 5
}
