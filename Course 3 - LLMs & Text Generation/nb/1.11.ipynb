{
 "cells": [
  {
   "cell_type": "markdown",
   "id": "3d74a6c5",
   "metadata": {},
   "source": [
    "## Summary\n",
    "\n",
    "### What is a Prompt\n",
    "\n",
    "P(Y ∣ X,θ)     - probability of generating Y given X and θ\n",
    "\n",
    "- X:\n",
    "    - ML: Features\n",
    "    - LLM: User Prompt\n",
    "\n",
    "- Y:\n",
    "    - ML: Label / Prediction\n",
    "    - LLM: Masked (Next Token) / Response (Next Token)\n",
    "\n",
    "- θ (theta):\n",
    "    - ML: Model Weights\n",
    "    - LLM: Model Weights"
   ]
  },
  {
   "cell_type": "markdown",
   "id": "7e9deb02",
   "metadata": {},
   "source": [
    "## Additional References\n",
    "\n",
    "[]()"
   ]
  },
  {
   "cell_type": "markdown",
   "id": "c91afd38",
   "metadata": {},
   "source": []
  }
 ],
 "metadata": {
  "language_info": {
   "name": "python"
  }
 },
 "nbformat": 4,
 "nbformat_minor": 5
}
